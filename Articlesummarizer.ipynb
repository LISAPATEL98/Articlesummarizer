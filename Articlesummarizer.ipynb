{
 "cells": [
  {
   "cell_type": "markdown",
   "metadata": {},
   "source": [
    "## Article Summarizer\n",
    "New Articles can often be long and descriptive. Analyzing these articles  manually, as you can imagine, is really time-consuming. This is where the brilliance of Natural Language Processing can be applied to generate a summary for long articles.\n",
    "We will be working on the NY Times Articles.<br>\n",
    "<b>My objective</b> here is to generate a summary for the NY Times articles using the extraction-based approach.\n"
   ]
  },
  {
   "attachments": {
    "Unknown-1.png": {
     "image/png": "[encoded data removed]"
    }
   },
   "cell_type": "markdown",
   "metadata": {},
   "source": [
    "![Unknown-1.png](attachment:Unknown-1.png)"
   ]
  },
  {
   "cell_type": "code",
   "execution_count": 1,
   "metadata": {},
   "outputs": [
    {
     "name": "stderr",
     "output_type": "stream",
     "text": [
      "Using TensorFlow backend.\n"
     ]
    }
   ],
   "source": [
    "#Import Required Libraries\n",
    "import pandas as pd\n",
    "import numpy as np\n",
    "from pandas import DataFrame\n",
    "\n",
    "#Preprocessing & tokeninzing \n",
    "import re           \n",
    "from bs4 import BeautifulSoup \n",
    "from keras.preprocessing.text import Tokenizer \n",
    "from keras.preprocessing.sequence import pad_sequences\n",
    "from nltk.corpus import stopwords\n",
    "from nltk.tokenize import sent_tokenize\n",
    "import datetime, nltk, warnings\n",
    "\n",
    "#Similarity matrix \n",
    "from sklearn.metrics.pairwise import cosine_similarity\n",
    "import networkx as nx\n",
    "import heapq\n",
    "\n",
    "#Webscrapping \n",
    "from selenium import webdriver\n",
    "from selenium.webdriver.chrome.options import Options\n",
    "from tqdm import tqdm\n",
    "from webdriver_manager.chrome import ChromeDriverManager"
   ]
  },
  {
   "cell_type": "code",
   "execution_count": 4,
   "metadata": {},
   "outputs": [
    {
     "data": {
      "text/html": [
       "<div>\n",
       "<style scoped>\n",
       "    .dataframe tbody tr th:only-of-type {\n",
       "        vertical-align: middle;\n",
       "    }\n",
       "\n",
       "    .dataframe tbody tr th {\n",
       "        vertical-align: top;\n",
       "    }\n",
       "\n",
       "    .dataframe thead th {\n",
       "        text-align: right;\n",
       "    }\n",
       "</style>\n",
       "<table border=\"1\" class=\"dataframe\">\n",
       "  <thead>\n",
       "    <tr style=\"text-align: right;\">\n",
       "      <th></th>\n",
       "      <th>headline</th>\n",
       "      <th>snippet</th>\n",
       "      <th>webURL</th>\n",
       "      <th>text</th>\n",
       "    </tr>\n",
       "  </thead>\n",
       "  <tbody>\n",
       "    <tr>\n",
       "      <th>0</th>\n",
       "      <td>G.O.P. Leadership Poised to Topple Obama’s Pi...</td>\n",
       "      <td>The most powerful and ambitious Republican-led...</td>\n",
       "      <td>https://www.nytimes.com/2017/01/01/us/politics...</td>\n",
       "      <td>With New Congress Poised to Convene, Obama’s P...</td>\n",
       "    </tr>\n",
       "  </tbody>\n",
       "</table>\n",
       "</div>"
      ],
      "text/plain": [
       "                                            headline  \\\n",
       "0   G.O.P. Leadership Poised to Topple Obama’s Pi...   \n",
       "\n",
       "                                             snippet  \\\n",
       "0  The most powerful and ambitious Republican-led...   \n",
       "\n",
       "                                              webURL  \\\n",
       "0  https://www.nytimes.com/2017/01/01/us/politics...   \n",
       "\n",
       "                                                text  \n",
       "0  With New Congress Poised to Convene, Obama’s P...  "
      ]
     },
     "execution_count": 4,
     "metadata": {},
     "output_type": "execute_result"
    }
   ],
   "source": [
    "#Read the Data\n",
    "df = pd.read_csv('ArticlesText.csv')\n",
    "df = df.drop(['articleID', 'byline','documentType','keywords','multimedia','newDesk','printPage','pubDate','sectionName','source','typeOfMaterial','articleWordCount'], axis=1)\n",
    "df.head(1)"
   ]
  },
  {
   "cell_type": "markdown",
   "metadata": {},
   "source": [
    "### Webscrapping using selenium "
   ]
  },
  {
   "cell_type": "code",
   "execution_count": 5,
   "metadata": {},
   "outputs": [],
   "source": [
    "#Function for fetching articles from url  \n",
    "def get_content(url):\n",
    "    chrome_options = Options()\n",
    "    \n",
    "    #Chromedriver location on local machine\n",
    "    driver = webdriver.Chrome('/Users/lisaapatel/.wdm/drivers/chromedriver/83.0.4103.39/mac64/chromedriver')\n",
    "    driver.maximize_window()\n",
    "    \n",
    "    #Fetching data from url\n",
    "    driver.get(url)\n",
    "    \n",
    "    try:\n",
    "        #Fetching only text inside 'P' tags(Assuming article text will be in paragraphs)\n",
    "        content = driver.find_elements_by_tag_name('p')\n",
    "        s = \"\"\n",
    "        if len(content) > 0:\n",
    "            for i in range(len(content)):\n",
    "                s = s + content[i].text\n",
    "        dataset.append(s)\n",
    "        \n",
    "    except:\n",
    "        #Will throw an exception if url is not working \n",
    "        print(\"Error occured at: \" + url)\n",
    "        \n",
    "    driver.close()"
   ]
  },
  {
   "cell_type": "code",
   "execution_count": 6,
   "metadata": {},
   "outputs": [],
   "source": [
    "l=[]\n",
    "#Here, fetching data only for one article \n",
    "for url in df[\"webURL\"].iloc[1:2]:\n",
    "    l.append(url)"
   ]
  },
  {
   "cell_type": "code",
   "execution_count": 7,
   "metadata": {},
   "outputs": [
    {
     "name": "stderr",
     "output_type": "stream",
     "text": [
      "100%|██████████| 1/1 [00:15<00:00, 15.35s/it]\n"
     ]
    }
   ],
   "source": [
    "#Append articles to list \n",
    "dataset = []\n",
    "for url in tqdm(l[0:1]):\n",
    "    get_content(url)"
   ]
  },
  {
   "cell_type": "code",
   "execution_count": 8,
   "metadata": {},
   "outputs": [],
   "source": [
    "#Creating a new dataframe \n",
    "A_df = DataFrame(dataset,columns=['Article'])\n",
    "\n",
    "#Adding column 'Snippet' to dataframe \n",
    "A_df['Snippet'] = df['snippet']\n",
    "\n",
    "#Defing Article lengths \n",
    "A_df['Article_len'] = A_df['Article'].apply(lambda x: len(x) - x.count(\" \"))"
   ]
  },
  {
   "cell_type": "code",
   "execution_count": 9,
   "metadata": {},
   "outputs": [
    {
     "data": {
      "text/html": [
       "<div>\n",
       "<style scoped>\n",
       "    .dataframe tbody tr th:only-of-type {\n",
       "        vertical-align: middle;\n",
       "    }\n",
       "\n",
       "    .dataframe tbody tr th {\n",
       "        vertical-align: top;\n",
       "    }\n",
       "\n",
       "    .dataframe thead th {\n",
       "        text-align: right;\n",
       "    }\n",
       "</style>\n",
       "<table border=\"1\" class=\"dataframe\">\n",
       "  <thead>\n",
       "    <tr style=\"text-align: right;\">\n",
       "      <th></th>\n",
       "      <th>Article</th>\n",
       "      <th>Snippet</th>\n",
       "      <th>Article_len</th>\n",
       "    </tr>\n",
       "  </thead>\n",
       "  <tbody>\n",
       "    <tr>\n",
       "      <th>0</th>\n",
       "      <td>A strategy that went from a “good war” to the ...</td>\n",
       "      <td>The most powerful and ambitious Republican-led...</td>\n",
       "      <td>14206</td>\n",
       "    </tr>\n",
       "  </tbody>\n",
       "</table>\n",
       "</div>"
      ],
      "text/plain": [
       "                                             Article  \\\n",
       "0  A strategy that went from a “good war” to the ...   \n",
       "\n",
       "                                             Snippet  Article_len  \n",
       "0  The most powerful and ambitious Republican-led...        14206  "
      ]
     },
     "execution_count": 9,
     "metadata": {},
     "output_type": "execute_result"
    }
   ],
   "source": [
    "A_df.head()"
   ]
  },
  {
   "cell_type": "code",
   "execution_count": 10,
   "metadata": {},
   "outputs": [],
   "source": [
    "#split the the text in the articles into sentences\n",
    "sentences = []\n",
    "for s in A_df['Article']:\n",
    "    article_str = BeautifulSoup(s, \"lxml\").text\n",
    "    article_str = article_str.replace('\\n', ' ')\n",
    "    article_str = re.sub(r'^https?:\\/\\/.*[\\r\\n]*', '', article_str, flags=re.MULTILINE)\n",
    "    sentences.append(sent_tokenize(article_str))"
   ]
  },
  {
   "cell_type": "code",
   "execution_count": 11,
   "metadata": {},
   "outputs": [],
   "source": [
    "#flatten the list\n",
    "sentences = [y for x in sentences for y in x]"
   ]
  },
  {
   "cell_type": "markdown",
   "metadata": {},
   "source": [
    "Sentences after tokenization "
   ]
  },
  {
   "cell_type": "code",
   "execution_count": 12,
   "metadata": {},
   "outputs": [
    {
     "data": {
      "text/plain": [
       "['Obama was a state senator from Illinois in October 2002 when he famously condemned Iraq as a “dumb war.” But in the same speech he also said, “I don’t oppose all wars.” He was referring to Afghanistan, which he viewed as a just war to hunt down the perpetrators of the Sept. 11 terrorist attacks.“I would willingly take up arms myself to prevent such tragedy from happening again,” he told the crowd that day in Chicago’s Federal Plaza.By July 2008, as the Democratic nominee for president, Mr. Obama had embraced Afghanistan as a priority over Iraq — the “good war,” in a phrase that he never actually used himself but that became so associated with his approach it was sometimes wrongly attributed to him.ADVERTISEMENTMr.']"
      ]
     },
     "execution_count": 12,
     "metadata": {},
     "output_type": "execute_result"
    }
   ],
   "source": [
    "sentences[10:11]"
   ]
  },
  {
   "cell_type": "markdown",
   "metadata": {},
   "source": [
    "### Preprocessing Articles \n",
    "\n",
    "\n",
    "List of Task Performed:\n",
    "<li> Removing punctuations, numbers and special characters </li>\n",
    "<li> Converting sentences to lowercase </li>\n",
    "<li> Removing all the stopwords </li>"
   ]
  },
  {
   "cell_type": "code",
   "execution_count": 13,
   "metadata": {},
   "outputs": [],
   "source": [
    "stop_words = stopwords.words('english')\n",
    "def clean_article(text):\n",
    "    \n",
    "    clean_sentences = pd.Series(text).str.replace(\"[^a-zA-Z]+\", \" \")\n",
    "    clean_sentences = pd.Series(text).str.replace(\"'\\([^)]*\\)'\", \" \")\n",
    "    clean_sentences = pd.Series(text).str.replace('\"','')\n",
    "    clean_sentences = [s.lower() for s in clean_sentences]\n",
    "      \n",
    "    sen_new = \" \".join([i for i in clean_sentences if i not in stop_words])\n",
    "    \n",
    "    return sen_new\n",
    "      \n",
    "clean_sentences = [clean_article(r.split()) for r in sentences]"
   ]
  },
  {
   "cell_type": "markdown",
   "metadata": {},
   "source": [
    "### Output"
   ]
  },
  {
   "cell_type": "markdown",
   "metadata": {},
   "source": [
    "Cleaned sentences after Pre-preprcossing "
   ]
  },
  {
   "cell_type": "code",
   "execution_count": 14,
   "metadata": {
    "scrolled": true
   },
   "outputs": [
    {
     "data": {
      "text/plain": [
       "['optimistic president thought afghanistan winnable had, bitter experience, become commander chief forever war.he remains defensive lessons journey.',\n",
       " '“we shouldn’t assume every time country problems reflects failure american policy,” president said interview september.advertisementnow, mr. obama prepares turn war donald j. trump, leader even skeptical value american engagement foreign conflicts, afghanistan captures disillusionment man believed, put 2009 nobel peace prize acceptance speech, “that war sometimes necessary, war level expression human folly.”more conflict, afghanistan shaped mr. obama’s thinking basic questions war, peace use military power.']"
      ]
     },
     "execution_count": 14,
     "metadata": {},
     "output_type": "execute_result"
    }
   ],
   "source": [
    "clean_sentences[6:8]"
   ]
  },
  {
   "cell_type": "markdown",
   "metadata": {},
   "source": [
    "### Vector Representation of Sentences\n",
    "Here, we created vectors for sentences in our data using the clean sentences & GloVe vectors"
   ]
  },
  {
   "cell_type": "code",
   "execution_count": 16,
   "metadata": {},
   "outputs": [],
   "source": [
    "#Extract word vectors\n",
    "word_embeddings = {}\n",
    "\n",
    "#Read the glove file with N=100\n",
    "gloveFile = open('/Users/lisaapatel/Documents/try /glove.6B/glove.6B.100d.txt', encoding='utf-8')\n",
    "\n",
    "for line in gloveFile:\n",
    "    #Separate the words from the coeffients \n",
    "    values = line.split()\n",
    "    word = values[0]\n",
    "    coefs = np.asarray(values[1:], dtype='float32')\n",
    "    \n",
    "    #Create dictionary with words as the key and the values as the coeffients \n",
    "    word_embeddings[word] = coefs\n",
    "gloveFile.close()"
   ]
  },
  {
   "cell_type": "code",
   "execution_count": 17,
   "metadata": {},
   "outputs": [
    {
     "data": {
      "text/plain": [
       "400001"
      ]
     },
     "execution_count": 17,
     "metadata": {},
     "output_type": "execute_result"
    }
   ],
   "source": [
    "len(word_embeddings)"
   ]
  },
  {
   "cell_type": "code",
   "execution_count": 23,
   "metadata": {},
   "outputs": [],
   "source": [
    "sentence_vectors = []\n",
    "\n",
    "for i in clean_sentences:\n",
    "    \n",
    "    if len(i) != 0:\n",
    "        #Create vectors of the sentences using the word_embeddings created about \n",
    "        vect = sum([word_embeddings.get(w, np.zeros((100,))) for w in i.split()])/(len(i.split())+0.001)\n",
    "    else:\n",
    "        #However, if no sentence is present intialize the vector with zeros\n",
    "        vect = np.zeros((100,))\n",
    "        \n",
    "    #The sentence vector list will be used in cosine similarity matrix for comparision\n",
    "    sentence_vectors.append(vect)"
   ]
  },
  {
   "cell_type": "markdown",
   "metadata": {},
   "source": [
    "### Similarity Matrix using PageRank Algorithm"
   ]
  },
  {
   "cell_type": "code",
   "execution_count": 24,
   "metadata": {},
   "outputs": [],
   "source": [
    "#Similarity matrix\n",
    "similarity_mat = np.zeros([len(sentences), len(sentences)])\n",
    "\n",
    "#Calculate cosine similarity for each pairs of sentences except for the sentences itself(i.e i = j)\n",
    "for i in range(len(sentences)):\n",
    "    for j in range(len(sentences)):\n",
    "        if i != j:\n",
    "            similarity_mat[i][j] = cosine_similarity(sentence_vectors[i].reshape(1,100), sentence_vectors[j].reshape(1,100))[0,0]\n",
    "\n",
    "#Using the similarity matrix calculate the pagerank scores \n",
    "graph_nx = nx.from_numpy_array(similarity_mat)\n",
    "scores = nx.pagerank(graph_nx)"
   ]
  },
  {
   "cell_type": "markdown",
   "metadata": {},
   "source": [
    "### Summary Extraction\n",
    "<li>Sorting sentences \n",
    "<li>Extracting top 5 ranked sentences"
   ]
  },
  {
   "cell_type": "code",
   "execution_count": 25,
   "metadata": {},
   "outputs": [],
   "source": [
    "#Sorts sentences according to their highest pagerank scores \n",
    "ranked_sentences = sorted(((scores[i],s) for i,s in enumerate(sentences)), reverse=True)"
   ]
  },
  {
   "cell_type": "code",
   "execution_count": 26,
   "metadata": {},
   "outputs": [],
   "source": [
    "#Extracting top 5 ranked sentences(number of senteces can be changed)\n",
    "summary_sentences = heapq.nlargest(5,ranked_sentences)"
   ]
  },
  {
   "cell_type": "code",
   "execution_count": 27,
   "metadata": {},
   "outputs": [
    {
     "name": "stdout",
     "output_type": "stream",
     "text": [
      "Article : A strategy that went from a “good war” to the shorthand “Afghan good enough” reflects the president’s coming to terms with what was possible in Afghanistan.President Obama visited Section 60 of Arlington National Cemetery on Veterans Day in 2009. Section 60 is where many American soldiers killed in Afghanistan and Iraq are buried.\n",
      "Credit...\n",
      "Luke Sharrett/The New York TimesBy Mark LandlerWASHINGTON — President Obama’s advisers wrestled with an intractable problem in the spring and summer of 2015: How could they stabilize Afghanistan while preserving Mr. Obama’s longtime goal of pulling out the last American troops before he left office?As it happened, the president solved the problem for them. In early August of that year, when Mr. Obama convened a meeting of the National Security Council, he looked around the table and acknowledged a stark new reality.“The fever in this room has finally broken,” the president told the group, according to a person in the meeting. “We’re no longer in nation-building mode.”What Mr. Obama meant was that no one in the Situation Room that day, himself included, thought that the United States — after 14 years of war, billions of dollars spent and more than 2,000 American lives lost — would ever transform Afghanistan into a semblance of a democracy able to defend itself.ADVERTISEMENTAt the same time, he added, “the counterterrorism challenges are real.” As bleak as Afghanistan’s prospects were, the United States could not afford to walk away and allow the country to become a seedbed for extremists again.A few weeks later, the president halted the withdrawal and announced that he would leave thousands of American troops in the country indefinitely.It was a crucial turning point in the evolution of Barack Obama. The antiwar candidate of 2008 who had pledged to turn around Afghanistan — the “good war” to George W. Bush’s “bad war” in Iraq — had conceded that the longest military operation in American history would not end on his watch. The optimistic president who once thought Afghanistan was winnable had, through bitter experience, become the commander in chief of a forever war.He remains defensive about the lessons of that journey. “We shouldn’t assume that every time a country has problems that it reflects a failure of American policy,” the president said in an interview in September.ADVERTISEMENTNow, as Mr. Obama prepares to turn the war over to Donald J. Trump, a leader even more skeptical than he is about the value of American engagement in foreign conflicts, Afghanistan captures the disillusionment of a man who believed, as he put it in his 2009 Nobel Peace Prize acceptance speech, “that war is sometimes necessary, and war at some level is an expression of human folly.”More than any other conflict, Afghanistan shaped Mr. Obama’s thinking on the basic questions of war, peace and the use of military power. It is where he discovered his affinity for drones, sharpened his belief in the limits of American intervention, battled his generals and hardened his disdain for unreliable foreign leaders. It reaffirmed his suspicions about sending American troops into foreign conflicts and made him reluctant to use more force in Iraq, Syria, Libya and other war zones.It also chastened him about his own hopes.“When it comes to helping these societies stabilize and create a more secure environment and a better life for their people, we have to understand,” he said in the interview, “that this is a long slog.”Mr. Obama was a state senator from Illinois in October 2002 when he famously condemned Iraq as a “dumb war.” But in the same speech he also said, “I don’t oppose all wars.” He was referring to Afghanistan, which he viewed as a just war to hunt down the perpetrators of the Sept. 11 terrorist attacks.“I would willingly take up arms myself to prevent such tragedy from happening again,” he told the crowd that day in Chicago’s Federal Plaza.By July 2008, as the Democratic nominee for president, Mr. Obama had embraced Afghanistan as a priority over Iraq — the “good war,” in a phrase that he never actually used himself but that became so associated with his approach it was sometimes wrongly attributed to him.ADVERTISEMENTMr. Obama praised the Bush administration’s troop surge in Iraq that year not because he believed that the United States could transform Iraqi society, but because he thought that reducing the violence there would allow the nation to turn its attention to Afghanistan.“This is a war that we have to win,” he declared. He promised to send at least two more combat brigades, or roughly 10,000 soldiers, to Afghanistan.The United States was hardly on course for victory. Although there were already close to 50,000 American troops in Afghanistan as Mr. Obama campaigned that summer, the Taliban were gaining momentum. In a bloody debacle, nine American soldiers were killed in what became known as the Battle of Wanat when the Taliban brazenly overran a remote Army outpost in the far eastern province of Nuristan.Adm. Mike Mullen, the chairman of the Joint Chiefs of Staff, echoed Mr. Obama in calling the situation in the country “precarious and urgent.” More than 100 Americans would die in Afghanistan by the end of 2008, a larger number than in any other prior year.When Mr. Obama took office in January 2009, he ordered a quick policy review on Afghanistan by a former intelligence analyst, Bruce Riedel. But even before it was completed, he accepted a Pentagon recommendation to send 17,000 additional troops to Afghanistan, bringing the total to nearly 70,000 American troops on the ground.By the fall of 2009, with the Taliban showing increased strength, Mr. Obama’s military commanders, backed by the elders on his war council, including Hillary Clinton, then his secretary of state, were pressing him to go much farther.ADVERTISEMENTThey urged on him an ambitious counterinsurgency strategy that had helped turn around the war in Iraq — a troop-heavy, time-consuming, expensive doctrine of trying to win over the locals by building roads, bridges, schools and a well-functioning government.The strategy, known by its acronym COIN, would require as many as 40,000 additional American men and women in uniform in Afghanistan, his advisers told him.“There was still the afterglow of the surge in Iraq, and the counterinsurgency narrative that had made the military the savior of the Iraq war,” said Vali R. Nasr, a former State Department adviser on Afghanistan and Pakistan. “I don’t believe Obama was in a position to pick a debate with the military on Afghanistan, and to assert what would be his worldview.”“In many ways, I think, he deferred,” said Mr. Nasr, now the dean of the Johns Hopkins School of Advanced International Studies.Although Mr. Obama agreed after months of internal debate to send 30,000 additional troops to Afghanistan, he placed a strict timetable on the mission, saying they would have to be withdrawn again, starting in July 2011. His aides later said he felt hijacked by a military that had presented him with a narrow band of options rather than a real choice.Even some former military commanders agreed, saying that the troop deployments were framed in a way that made choosing a smaller number — 20,000, for example — look like a path to certain defeat.ADVERTISEMENT“President Obama was asking the military for broad options,” said Karl W. Eikenberry, a retired general who served as the commander in Afghanistan from 2005 to 2007 and was later Mr. Obama’s ambassador to Kabul. But, he said, the military gave Mr. Obama only “variations” on “the more robust counterinsurgency model.”Mr. Eikenberry, who wrote a politically explosive but prescient cable in late 2009 raising doubts about the wisdom of the surge, diagnosed a deeper problem with the policy. Was it simply to prevent Afghanistan from being a safe haven for Al Qaeda? Or was it to turn Afghanistan into another Denmark? “When he came in, everyone knew we were going to do more,” Mr. Eikenberry said. “But what we were trying to achieve was difficult to define.”Given Mr. Obama’s innate wariness of nation-building, it didn’t take long for him to grow disenchanted with the Denmark option. A few months into the surge, in the spring of 2010, David H. Petraeus, the commander of the Pentagon’s Central Command and an architect of the strategy, was briefing him on the state of the counterinsurgency campaign.Drawing on anthropology theory from the University of Chicago, General Petraeus explained to his commander in chief how neighborhoods in Kandahar related to one another. Mr. Obama listened for a while, then cut him off. “We can’t worry about how neighborhoods relate to each other in Kandahar,” he curtly told General Petraeus, according to people in the room.“Obama believes the military can do enormous things,” said Benjamin J. Rhodes, the deputy national security adviser. “It can win wars and stabilize conflicts. But a military can’t create a political culture or build a society.”By the end of his first term, Mr. Obama had evolved to the point that he fully embraced the concept “Afghan good enough.” The phrase, which had been kicked around the White House since 2010, referred to the shift away from nation-building to a policy that was content with taking out the terrorists, preventing the Taliban from overrunning the country and putting a premium on getting the troops out.ADVERTISEMENTBy that new standard, things had improved in Afghanistan. By August 2010, 100,000 American troops were on the ground in Afghanistan and were pushing back the Taliban in some critical areas. Despite uneven progress in the military campaign, Ryan Crocker, a diplomat who had reopened the American Embassy in Kabul in 2002 and served there again as ambassador in 2011, recalled thinking, “Wow, this place looks great!”The Navy SEAL raid that killed Osama bin Laden in Pakistan in May 2011 added to Mr. Obama’s conviction that he was on the way to closing the books on the war.At midnight on May 1, 2012, Air Force One rolled out from behind a hangar at Joint Base Andrews to pick up the president for a secret trip to Afghanistan. He was going to sign a strategic partnership agreement with President Hamid Karzai that set the terms for relations after 2014, when the United States was scheduled to withdraw its combat troops and turn over Afghanistan’s security to the Afghans.Aides to Mr. Obama had advised him not to go for security reasons, but he saw it as an important milestone.The agreement promised an “enduring partnership” between the United States and Afghanistan, with pledges of American help in developing the Afghan economy and public institutions. Yet the promises obscured a starker reality: Mr. Obama had accelerated the timetable for drawing down American troops, and he was looking beyond the war.Speaking to a national TV audience from Bagram Air Base, he suggested that America’s experience in Afghanistan had come full circle. “One year ago, from a base here in Afghanistan, our troops launched the operation that killed Osama bin Laden,” he said. “The goal I set — to defeat Al Qaeda, and deny it a chance to rebuild — is now within our reach.”Earlier, Mr. Obama had met for an hour with Mr. Karzai. The two had long had a rocky relationship — on an earlier trip, Mr. Obama excoriated Mr. Karzai for the rampant corruption in the Afghan government — and this session did little to improve their rapport. Mr. Crocker recalled that the president was “very aloof, almost cold, which bothered me a bit because I’d worked a solid damn year to get Karzai in a better place with us.”ADVERTISEMENTThings never warmed up between them. When Mr. Karzai refused to sign a long-term security agreement with Washington, Mr. Obama gave up on him to focus on his successor, Ashraf Ghani. The experience left a lasting imprint on the president, his aides said. He concluded that without the right partner, it was impossible for the United States to succeed, no matter how much blood and treasure it poured into a country.It was an insight that Mr. Obama applied to his relations with other countries, from Pakistan to Israel, where his poor relationships with the leaders impeded progress. “The most underappreciated part of foreign policy,” Mr. Rhodes said, “is dealing with flawed partners.”When Mr. Obama convened his National Security Council that day in August 2015, the Taliban were regrouping again. They had carried out audacious terrorist attacks in the center of Kabul and had mounted a military offensive in the provinces of Kunduz and Oruzgan.Worse, there was a new threat in the form of the Islamic State, also known as ISIS or ISIL, which sprouted in the poisonous soil of Iraq after the United States left and was finding recruits in the Hindu Kush.Mr. Obama had rejected a chorus of calls in Washington to delay the drawdown, under which the residual force of American troops was to leave Afghanistan by the end of 2016.“The mantra I heard was that the president does not want to hand off to his successor the mess he inherited,” said Daniel F. Feldman, who served as the special representative to Afghanistan and Pakistan in 2014 and 2015.ADVERTISEMENTBut as the Islamic State became a dire enough threat to return American troops to Iraq, Mr. Obama felt compelled to change course on Afghanistan. “ISIL thrived in a vacuum in Iraq and it pointed to a similar vacuum in Afghanistan,” Mr. Rhodes said.Mr. Obama, he said, was prodded by more than fear. After a long stretch of political paralysis, Afghanistan formed a government with Mr. Ghani in the presidency. For the first time since taking office, Mr. Obama felt like he had a partner with whom he could do business. The American-trained Afghan Army was taking heavy casualties fighting the Taliban, and the president believed that the United States had an obligation to help them.But as Mr. Obama’s war council met that August morning, the level of American support remained the subject of intense debate.Vice President Joseph R. Biden Jr., a skeptic about Afghanistan going back to 2009, argued that the country would revert to chaos, regardless of how long the United States stayed there. “It doesn’t matter if we leave tomorrow or 10 years from now,” he declared, according to those in the room. He was, he conceded, a “broken record” on this issue.Gen. Martin E. Dempsey, who had succeeded Admiral Mullen as chairman of the Joint Chiefs of Staff, recommended that the United States maintain a military presence in Kabul, and at Bagram and a scattering of bases in the east and south. The 10,000 soldiers in the country would carry out a singular, ruthless mission of killing suspected terrorists and keeping the country from spiraling out of control.The imperative, General Dempsey told Mr. Obama, was that Afghanistan fit into a broader counterterrorism policy from Central Asia to North Africa to extend “well beyond your presidency,” according to several officials.Mr. Obama liked that idea. It was in line, he said, with the principles he had laid out in a 2014 speech at the United States Military Academy in West Point, N.Y., where he said America would train and equip foreign armies but leave the front-line fighting to them. He acknowledged that it would mean handing off Afghanistan to his successor as unfinished business.ADVERTISEMENT“This goes to the politics of what I’m leaving for the next president,” he told the group, according to one of the participants. “My interest is not to sign them up for 10 years of X,” he added, referring to troop numbers, “but to lay out a vision and to put stakes in the ground for that vision.”Mr. Obama now seems at an uneasy peace. In the interview in September, he disputed the suggestion that his policy had failed. He had, after all, reduced the number of American troops to fewer than 10,000 from more than 100,000. They were training and assisting Afghan troops, even if the line between that and actual combat was sometimes blurry.The country had been broken to begin with, he said, and America was never going to fix it. “Afghanistan was one of the poorest countries in the world with the lowest literacy rates in the world before we got there. It continues to be,” Mr. Obama said. The country “was riven with all kinds of ethnic and tribal divisions before we got there. It’s still there.”In the end, Afghanistan became the template for a new kind of warfare — a chronic conflict, across an arc of unstable states, in which the United States is a participant, if not the principal actor.At a NATO summit meeting in Warsaw in July, Mr. Obama acknowledged that this prospect would disappoint an American public still suffering from combat fatigue. “It’s very hard for us ever to get the satisfaction of MacArthur and the emperor meeting, and a war being officially over,” he said.“As commander in chief of the most powerful military in the world,” he went on, “I spend a lot of time brooding over these issues. And I’m not satisfied we’ve got it perfect yet.”ADVERTISEMENT\n",
      "\n",
      "\n",
      "Snippet : The most powerful and ambitious Republican-led Congress in 20 years plans quick action on several priorities — most notably to clear a path for the repeal of President Obama’s health care law.\n",
      "\n",
      "\n",
      "Summary : Obama had rejected a chorus of calls in Washington to delay the drawdown, under which the residual force of American troops was to leave Afghanistan by the end of 2016.“The mantra I heard was that the president does not want to hand off to his successor the mess he inherited,” said Daniel F. Feldman, who served as the special representative to Afghanistan and Pakistan in 2014 and 2015.ADVERTISEMENTBut as the Islamic State became a dire enough threat to return American troops to Iraq, Mr. Obama felt compelled to change course on Afghanistan.\n",
      "\n",
      "\n"
     ]
    }
   ],
   "source": [
    "#Printing Article,Snippet & Summary \n",
    "for i in range(1):\n",
    "    \n",
    "    #Article\n",
    "    print(\"Article :\",A_df['Article'][i])\n",
    "    print(\"\\n\")\n",
    "    #Snippet\n",
    "    print(\"Snippet :\",A_df['Snippet'][i])\n",
    "    print(\"\\n\")\n",
    "    #Summary \n",
    "    print(\"Summary :\",summary_sentences[i][1])\n",
    "    print(\"\\n\")"
   ]
  }
 ],
 "metadata": {
  "kernelspec": {
   "display_name": "Python 3",
   "language": "python",
   "name": "python3"
  },
  "language_info": {
   "codemirror_mode": {
    "name": "ipython",
    "version": 3
   },
   "file_extension": ".py",
   "mimetype": "text/x-python",
   "name": "python",
   "nbconvert_exporter": "python",
   "pygments_lexer": "ipython3",
   "version": "3.7.6"
  }
 },
 "nbformat": 4,
 "nbformat_minor": 4
}
